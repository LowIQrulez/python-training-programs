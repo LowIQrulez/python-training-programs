{
 "cells": [
  {
   "cell_type": "code",
   "execution_count": 128,
   "metadata": {},
   "outputs": [],
   "source": [
    "def ipanalyzer ():\n",
    "    \n",
    "    #import libraries needed for html scraping\n",
    "    import requests\n",
    "    import urllib.request\n",
    "    from bs4 import BeautifulSoup\n",
    "\n",
    "    #definition of website from which will data be scraped\n",
    "    url = \"https://www.myip.com/\"\n",
    "\n",
    "    #checking accessability of website, 200 okay, 403 forbidden\n",
    "    response = requests.get (url)\n",
    "\n",
    "    #class for library assignment to variable\n",
    "    soup = BeautifulSoup (response.text,\"html.parser\")\n",
    "\n",
    "    #function used from library to find all \"span\" tags\n",
    "    soup.findAll (\"span\")\n",
    "\n",
    "    #creation of variable from tag containing IP\n",
    "    iptag = soup.findAll (\"span\") [0]\n",
    "\n",
    "    #cration of string containing IP, changing to list divided by signs <,> and then pulling a element containing only ip\n",
    "    ipstr = str (iptag)\n",
    "    ipstr = ipstr.split (\">\") [1]\n",
    "    ipstr = ipstr.split (\"<\") [0]\n",
    "\n",
    "    #the same for country, town and service provider\n",
    "\n",
    "    countrytag = soup.findAll (\"div\") [23]\n",
    "\n",
    "    countrystr = str (countrytag)\n",
    "    countrystr = countrystr.split (\">\") [1]\n",
    "    countrystr = countrystr.split (\"<\") [0]\n",
    "\n",
    "    sptag = list (soup.findAll (\"div\") [17]) [2]\n",
    "\n",
    "    spstr = sptag.split (\"\\n\") [1]\n",
    "    spstr = spstr.replace (\". \",\".\")\n",
    "\n",
    "    print (\"IP is: \" + ipstr + \"\\n\"\n",
    "           \"Registered in: \" + countrystr + \"\\n\"\n",
    "           \"Provided by: \" + spstr)\n"
   ]
  },
  {
   "cell_type": "code",
   "execution_count": 127,
   "metadata": {},
   "outputs": [
    {
     "name": "stdout",
     "output_type": "stream",
     "text": [
      "IP is:46.135.107.80\n",
      "Registered in:Czech Republic\n",
      "Provided by:Vodafone Czech Republic a.s.\n"
     ]
    }
   ],
   "source": [
    "ipanalyzer ()"
   ]
  }
 ],
 "metadata": {
  "kernelspec": {
   "display_name": "Python 3",
   "language": "python",
   "name": "python3"
  },
  "language_info": {
   "codemirror_mode": {
    "name": "ipython",
    "version": 3
   },
   "file_extension": ".py",
   "mimetype": "text/x-python",
   "name": "python",
   "nbconvert_exporter": "python",
   "pygments_lexer": "ipython3",
   "version": "3.7.6"
  }
 },
 "nbformat": 4,
 "nbformat_minor": 4
}
